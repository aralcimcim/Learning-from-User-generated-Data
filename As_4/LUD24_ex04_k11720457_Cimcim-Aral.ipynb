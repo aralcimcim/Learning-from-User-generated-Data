{
 "cells": [
  {
   "cell_type": "markdown",
   "id": "3ef6227e",
   "metadata": {},
   "source": [
    "*UE Learning from User-generated Data, CP MMS, JKU Linz 2024*\n",
    "# Exercise 4: Evaluation\n",
    "\n",
    "In this exercise we evaluate accuracy of three different RecSys we already implemented. First we implement DCG and nDCG metrics, then we create a simple evaluation framework to compare the three recommenders in terms of nDCG. The implementations for the three recommender systems are provided in a file rec.py and are imported later in the notebook.\n",
    "Please consult the lecture slides and the presentation from UE Session 4 for a recap.\n",
    "\n",
    "Make sure to rename the notebook according to the convention:\n",
    "\n",
    "LUD24_ex04_k<font color='red'><Matr. Number\\></font>_<font color='red'><Surname-Name\\></font>.ipynb\n",
    "\n",
    "for example:\n",
    "\n",
    "LUD24_ex04_k000007_Bond_James.ipynb\n",
    "\n",
    "## Implementation\n",
    "In this exercise, as before, you are required to write a number of functions. Only implemented functions are graded. Insert your implementations into the templates provided. Please don't change the templates even if they are not pretty. Don't forget to test your implementation for correctness and efficiency. **Make sure to try your implementations on toy examples and sanity checks.**\n",
    "\n",
    "Please **only use libraries already imported in the notebook**."
   ]
  },
  {
   "cell_type": "code",
   "execution_count": 1,
   "id": "8fe8120b",
   "metadata": {},
   "outputs": [],
   "source": [
    "import pandas as pd\n",
    "import numpy as np"
   ]
  },
  {
   "cell_type": "markdown",
   "id": "da35c1c9",
   "metadata": {},
   "source": [
    "## <font color='red'>TASK 1/2</font>: Evaluation Metrics"
   ]
  },
  {
   "cell_type": "markdown",
   "id": "ba9af194",
   "metadata": {},
   "source": [
    "Implement DCG and nDCG in the corresponding templates."
   ]
  },
  {
   "cell_type": "markdown",
   "id": "bc6360ca",
   "metadata": {},
   "source": [
    "### DCG Score\n",
    "Implement DCG following the input/output convention:\n",
    "#### Input:\n",
    "* predictions - (not an interaction matrix!) numpy array with recommendations. Row index corresponds to User_id, column index corresponds to the rank of the item mentioned in the cell. Every cell (i,j) contains **item id** recommended to the user (i) on the position (j) in the list. For example:\n",
    "\n",
    "The following predictions structure [[12, 7, 99], [0, 97, 6]] means that the user with id==1 (second row) got recommended item **0** on the top of the list, item **97** on the second place and item **6** on the third place.\n",
    "\n",
    "* test_interaction_matrix - (plain interaction matrix format as before!) interaction matrix constructed from interactions held out as a test set, rows - users, columns - items, cells - 0 or 1\n",
    "\n",
    "* topK - integer - top \"how many\" to consider for the evaluation. By default top 10 items are to be considered\n",
    "\n",
    "#### Output:\n",
    "* DCG score\n",
    "\n",
    "Don't forget, DCG is calculated for every user separately and then the average is returned.\n",
    "\n",
    "\n",
    "<font color='red'>**Attention!**</font> Use logarithm with base 2 for discounts! Remember that the top1 recommendation shouldn't get discounted!"
   ]
  },
  {
   "cell_type": "code",
   "execution_count": 2,
   "id": "d607a126",
   "metadata": {},
   "outputs": [],
   "source": [
    "def get_dcg_score(predictions: np.ndarray, test_interaction_matrix: np.ndarray, topK: int = 10) -> float:\n",
    "    \"\"\"\n",
    "    predictions - 2D np.ndarray, predictions of the recommendation algorithm for each user;\n",
    "    test_interaction_matrix - 2D np.ndarray, test interaction matrix for each user;\n",
    "    \n",
    "    returns - float, mean dcg score over all user;\n",
    "    \"\"\"\n",
    "    score = None\n",
    "\n",
    "    # TODO: YOUR IMPLEMENTATION.\n",
    "    dcg_scores = []\n",
    "    for user_id in range(predictions.shape[0]):\n",
    "        preds = predictions[user_id, :topK]\n",
    "        actual = test_interaction_matrix[user_id, :]\n",
    "\n",
    "        dcg = 0\n",
    "        for i, item in enumerate(preds):\n",
    "            if actual[item] == 1:\n",
    "                dcg += 1 / np.log2(i+2)\n",
    "\n",
    "        dcg_scores.append(dcg)\n",
    "\n",
    "    score = np.mean(dcg_scores)\n",
    "\n",
    "    return score"
   ]
  },
  {
   "cell_type": "code",
   "execution_count": 3,
   "id": "376794a0",
   "metadata": {},
   "outputs": [],
   "source": [
    "predictions = np.array([[0, 1, 2, 3], [3, 2, 1, 0]])\n",
    "test_interaction_matrix = np.array([[1, 0, 0, 0], [0, 0, 0, 1]])\n",
    "\n",
    "dcg_score = get_dcg_score(predictions, test_interaction_matrix, topK=4)\n",
    "\n",
    "assert np.isclose(dcg_score, 1), \"1 expected\""
   ]
  },
  {
   "cell_type": "markdown",
   "id": "86afdf65",
   "metadata": {},
   "source": [
    "* Can DCG score be higher than 1?\n",
    "* Can the average DCG score be higher than 1?\n",
    "* Why?"
   ]
  },
  {
   "cell_type": "markdown",
   "id": "ef924fee",
   "metadata": {},
   "source": [
    "### nDCG Score\n",
    "\n",
    "Following the same parameter convention as for DCG implement nDCG metric.\n",
    "\n",
    "<font color='red'>**Attention!**</font> Remember that ideal DCG is calculated separately for each user and depends on the number of tracks held out for them as a Test set! Use logarithm with base 2 for discounts! Remember that the top1 recommendation shouldn't get discounted!\n",
    "\n",
    "<font color='red'>**Note:**</font> nDCG is calculated for **every user separately** and then the average is returned. You do not necessarily need to use the function you implemented above. Writing nDCG from scratch might be a good idea as well."
   ]
  },
  {
   "cell_type": "code",
   "execution_count": 4,
   "id": "4f2ec6a5",
   "metadata": {},
   "outputs": [],
   "source": [
    "def get_ndcg_score(predictions: np.ndarray, test_interaction_matrix: np.ndarray, topK=10) -> float:\n",
    "    \"\"\"\n",
    "    predictions - np.ndarray, predictions of the recommendation algorithm for each user;\n",
    "    test_interaction_matrix - np.ndarray, test interaction matrix for each user;\n",
    "    topK - int, topK recommendations should be evaluated;\n",
    "    \n",
    "    returns - float, average ndcg score over all users;\n",
    "    \"\"\"\n",
    "    score = None\n",
    "    \n",
    "    # TODO: YOUR IMPLEMENTATION.\n",
    "    ndcg_scores = []\n",
    "    for user_id in range(predictions.shape[0]):\n",
    "        preds = predictions[user_id, :topK]\n",
    "        actual = test_interaction_matrix[user_id, :]\n",
    "\n",
    "        dcg, idcg = 0, 0\n",
    "        for i, item in enumerate(preds):\n",
    "            if actual[item] == 1:\n",
    "                dcg += 1 / np.log2(i+2)\n",
    "\n",
    "        num_relevant_items = np.sum(actual)\n",
    "        for i in range(min(num_relevant_items, topK)):\n",
    "            idcg += 1 / np.log2(i+2)\n",
    "\n",
    "        ndcg = dcg / idcg if idcg > 0 else 0\n",
    "        ndcg_scores.append(ndcg)\n",
    "\n",
    "    score = np.mean(ndcg_scores)\n",
    "    \n",
    "    return score"
   ]
  },
  {
   "cell_type": "code",
   "execution_count": 5,
   "id": "4db41b05",
   "metadata": {},
   "outputs": [],
   "source": [
    "predictions = np.array([[0, 1, 2, 3], [3, 2, 1, 0]])\n",
    "test_interaction_matrix = np.array([[1, 0, 0, 0], [0, 0, 0, 1]])\n",
    "\n",
    "ndcg_score = get_ndcg_score(predictions, test_interaction_matrix, topK=4)\n",
    "\n",
    "assert np.isclose(ndcg_score, 1), \"ndcg score is not correct.\""
   ]
  },
  {
   "cell_type": "markdown",
   "id": "34472609",
   "metadata": {},
   "source": [
    "* Can nDCG score be higher than 1?"
   ]
  },
  {
   "cell_type": "markdown",
   "id": "22655bbf",
   "metadata": {},
   "source": [
    "## <font color='red'>TASK 2/2</font>: Evaluation\n",
    "Use provided rec.py (see imports below) to build a simple evaluation framework. It should be able to evaluate POP, ItemKNN and SVD.\n",
    "\n",
    "*Make sure to place provided rec.py next to your notebook for the imports to work.*\n"
   ]
  },
  {
   "cell_type": "code",
   "execution_count": 6,
   "id": "222a425e",
   "metadata": {},
   "outputs": [],
   "source": [
    "from rec import svd_decompose, svd_recommend_to_list  #SVD\n",
    "from rec import inter_matr_implicit\n",
    "from rec import recTopK  #ItemKNN\n",
    "from rec import recTopKPop  #TopPop"
   ]
  },
  {
   "attachments": {},
   "cell_type": "markdown",
   "id": "32d6a9b7",
   "metadata": {},
   "source": [
    "Load the users, items and both the train interactions and test interactions\n",
    "from the **new version of the lfm-tiny-tunes dataset** provided with the assignment"
   ]
  },
  {
   "cell_type": "code",
   "execution_count": 7,
   "id": "276fea39",
   "metadata": {},
   "outputs": [],
   "source": [
    "def read(dataset, file):\n",
    "    return pd.read_csv(dataset + '/' + dataset + '.' + file, sep='\\t')\n",
    "\n",
    "# TODO: YOUR IMPLEMENTATION\n",
    "\n",
    "users = read(\"lfm-tiny-tunes\", 'user')\n",
    "items = read(\"lfm-tiny-tunes\", 'item')\n",
    "train_inters = read(\"lfm-tiny-tunes\", 'inter_train')\n",
    "test_inters = read(\"lfm-tiny-tunes\", 'inter_test')\n",
    "\n",
    "train_interaction_matrix = inter_matr_implicit(users=users, items=items, interactions=train_inters,\n",
    "                                               dataset_name=\"lfm-tiny-tunes\")\n",
    "test_interaction_matrix = inter_matr_implicit(users=users, items=items, interactions=test_inters,\n",
    "                                              dataset_name=\"lfm-tiny-tunes\")"
   ]
  },
  {
   "cell_type": "markdown",
   "id": "d6e414bd",
   "metadata": {
    "pycharm": {
     "name": "#%% md\n"
    }
   },
   "source": [
    "### Get Recommendations\n",
    "\n",
    "Implement the function below to get recommendations from all 3 recommender algorithms. Make sure you use the provided config dictionary and pay attention to the structure for the output dictionary - we will use it later."
   ]
  },
  {
   "cell_type": "code",
   "execution_count": 8,
   "id": "47964245",
   "metadata": {},
   "outputs": [],
   "source": [
    "config_predict = {\n",
    "    #interaction matrix\n",
    "    \"train_inter\": train_interaction_matrix,\n",
    "    #topK parameter used for all algorithms\n",
    "    \"top_k\": 10,\n",
    "    #specific parameters for all algorithms\n",
    "    \"recommenders\": {\n",
    "        \"SVD\": {\n",
    "            \"n_factors\": 50\n",
    "        },\n",
    "        \"ItemKNN\": {\n",
    "            \"n_neighbours\": 5\n",
    "        },\n",
    "        \"TopPop\": {\n",
    "        }\n",
    "    }\n",
    "}"
   ]
  },
  {
   "cell_type": "code",
   "execution_count": 9,
   "id": "52b7a07a",
   "metadata": {
    "pycharm": {
     "name": "#%%\n"
    }
   },
   "outputs": [],
   "source": [
    "def get_recommendations_for_algorithms(config: dict) -> dict:\n",
    "    \"\"\"\n",
    "    config - dict, configuration as defined above;\n",
    "\n",
    "    returns - dict, already predefined below with name \"rec_dict\";\n",
    "    \"\"\"\n",
    "\n",
    "    #use this structure to return results\n",
    "    # rec_dict = {\"recommenders\": {\n",
    "    #     \"SVD\": {\n",
    "    #         #Add your predictions here\n",
    "    #         \"predictions\": np.array([])\n",
    "    #     },\n",
    "    #     \"ItemKNN\": {\n",
    "    #         \"predictions\": np.array([])\n",
    "    #     },\n",
    "    #     \"TopPop\": {\n",
    "    #         \"predictions\": np.array([])\n",
    "    #     },\n",
    "    # }}\n",
    "\n",
    "    # predictions = recomendations???\n",
    "    rec_dict = {\"recommenders\": {\n",
    "        \"SVD\": {\n",
    "            \"recommendations\": np.array([])\n",
    "        },\n",
    "        \"ItemKNN\": {\n",
    "            \"recommendations\": np.array([])\n",
    "        },\n",
    "        \"TopPop\": {\n",
    "            \"recommendations\": np.array([])\n",
    "        },\n",
    "    }}\n",
    "\n",
    "    # TODO: YOUR IMPLEMENTATION.\n",
    "    recommenders = config[\"recommenders\"]\n",
    "    \n",
    "    for i in range(len(recommenders)):\n",
    "        key = list(recommenders.keys())[i]\n",
    "        rec = recommenders[key]\n",
    "        recommendations = []\n",
    "        for user_id in range(len(config[\"train_inter\"])):\n",
    "            if key == \"SVD\":\n",
    "                seen_item_ids = np.where(config[\"train_inter\"][user_id] != 0)\n",
    "                decomp = svd_decompose(config[\"train_inter\"], rec[\"n_factors\"])\n",
    "                recom = svd_recommend_to_list(user_id, seen_item_ids, *decomp, config[\"top_k\"])\n",
    "                recommendations.append(recom)\n",
    "            elif key == \"ItemKNN\":\n",
    "                recom = recTopK(config[\"train_inter\"], user_id, config[\"top_k\"], rec[\"n_neighbours\"])\n",
    "                recommendations.append(recom)\n",
    "            elif key == \"TopPop\":\n",
    "                recom = recTopKPop(config[\"train_inter\"], user_id, config[\"top_k\"])\n",
    "                recommendations.append(recom)\n",
    "\n",
    "        if recommendations:\n",
    "            rec_dict[\"recommenders\"][key][\"recommendations\"] = np.array(recommendations)\n",
    "\n",
    "    return rec_dict"
   ]
  },
  {
   "cell_type": "code",
   "execution_count": 10,
   "id": "0b78eab7",
   "metadata": {
    "pycharm": {
     "name": "#%%\n"
    }
   },
   "outputs": [],
   "source": [
    "recommendations = get_recommendations_for_algorithms(config_predict)\n",
    "\n",
    "assert \"SVD\" in recommendations[\"recommenders\"] and \"recommendations\" in recommendations[\"recommenders\"][\"SVD\"]\n",
    "assert isinstance(recommendations[\"recommenders\"][\"SVD\"][\"recommendations\"], np.ndarray)\n",
    "assert \"ItemKNN\" in recommendations[\"recommenders\"] and \"recommendations\" in recommendations[\"recommenders\"][\"ItemKNN\"]\n",
    "assert isinstance(recommendations[\"recommenders\"][\"ItemKNN\"][\"recommendations\"], np.ndarray)\n",
    "assert \"TopPop\" in recommendations[\"recommenders\"] and \"recommendations\" in recommendations[\"recommenders\"][\"TopPop\"]\n",
    "assert isinstance(recommendations[\"recommenders\"][\"TopPop\"][\"recommendations\"], np.ndarray)\n"
   ]
  },
  {
   "cell_type": "code",
   "execution_count": 48,
   "id": "b724c95a",
   "metadata": {},
   "outputs": [
    {
     "name": "stdout",
     "output_type": "stream",
     "text": [
      "SVD: \n",
      "[[262 336 125 158  15 251  25  18 269 242]\n",
      " [  6 153  43  89 251 146 125  97 216  80]\n",
      " [317  15 130 251 259 335  14  93  62 233]\n",
      " [ 17 144 146  15 142  10 198  42  19  41]\n",
      " [ 29 115  97 251 156  62  68 335 142 179]]\n",
      "\n",
      "ItemKNN: \n",
      "[[118  16 119 117  39  17  40   1 251 125]\n",
      " [153  33  40  17 251 144  30  31  97  86]\n",
      " [  4 117 317 133 257 233  80  78  58  77]\n",
      " [ 31 105  10   4  53 144  86   3  40 119]\n",
      " [118 119  29  12  40 105  16  47  35  99]]\n",
      "\n",
      "TopPop: \n",
      "[[ 16  40  33 105  47  35 118  45 119  30]\n",
      " [ 16   3  40  33 105  47 118  35  45 119]\n",
      " [  3  40  33 105  47 118  35  45 119   4]\n",
      " [  3  40 105  47 118  45 119   4  58  72]\n",
      " [ 16  40  33 105  47  35 118  45 119   4]]\n"
     ]
    }
   ],
   "source": [
    "# Results for first 5 users\n",
    "# SVD \n",
    "svd_preds = recommendations[\"recommenders\"][\"SVD\"][\"recommendations\"]\n",
    "print(f\"SVD: \\n{svd_preds[:5]}\")\n",
    "\n",
    "# ItemKNN\n",
    "itemknn_preds = recommendations[\"recommenders\"][\"ItemKNN\"][\"recommendations\"]\n",
    "print(f\"\\nItemKNN: \\n{itemknn_preds[:5]}\")\n",
    "\n",
    "# TopPop\n",
    "top_pop_preds = recommendations[\"recommenders\"][\"TopPop\"][\"recommendations\"]\n",
    "print(f\"\\nTopPop: \\n{top_pop_preds[:5]}\")"
   ]
  },
  {
   "cell_type": "markdown",
   "id": "8eaf7a88",
   "metadata": {
    "pycharm": {
     "name": "#%% md\n"
    }
   },
   "source": [
    "### Evaluate Recommendations\n",
    "\n",
    "Implement the function such that it evaluates the previously generated recommendations. Make sure you use the provided config dictionary. **DO NOT** load it directly from the *config_test*. Pay attention to the structure for the output dictionary."
   ]
  },
  {
   "cell_type": "code",
   "execution_count": 30,
   "id": "f7478da8",
   "metadata": {},
   "outputs": [],
   "source": [
    "config_test = {\n",
    "    \"top_k\": 10,\n",
    "    \"test_inter\": test_interaction_matrix,\n",
    "    \"recommenders\": {}  # here you can access the recommendations from get_recommendations_for_algorithms\n",
    "\n",
    "}\n",
    "# add dictionary with recommendations to config dictionary\n",
    "config_test.update(recommendations)"
   ]
  },
  {
   "cell_type": "code",
   "execution_count": 34,
   "id": "062c0fd0",
   "metadata": {
    "pycharm": {
     "name": "#%%\n"
    }
   },
   "outputs": [],
   "source": [
    "def evaluate_algorithms(config: dict) -> dict:\n",
    "    \"\"\"\n",
    "    config - dict, configuration as defined above;\n",
    "\n",
    "    returns - dict, { Recommender Key from input dict: { \"ndcg\": float - ndcg from evaluation for this recommender} };\n",
    "    \"\"\"\n",
    "\n",
    "    metrics = {\n",
    "        \"SVD\": {\n",
    "        },\n",
    "        \"ItemKNN\": {\n",
    "        },\n",
    "        \"TopPop\": {\n",
    "        },\n",
    "    }\n",
    "\n",
    "    # TODO: YOUR IMPLEMENTATION.\n",
    "    test_inter_matrix = config[\"test_inter\"]\n",
    "    top_k = config[\"top_k\"]\n",
    "\n",
    "    for recommender in config[\"recommenders\"]:\n",
    "        predictions = config[\"recommenders\"][recommender][\"recommendations\"]\n",
    "        ndcg_score = get_ndcg_score(predictions, test_inter_matrix, top_k)\n",
    "        metrics[recommender][\"ndcg\"] = ndcg_score\n",
    "\n",
    "    return metrics"
   ]
  },
  {
   "cell_type": "markdown",
   "id": "4f36d4b9",
   "metadata": {
    "pycharm": {
     "name": "#%% md\n"
    }
   },
   "source": [
    "### Evaluating Every Algorithm\n",
    "Make sure everything works.\n",
    "We expect KNN to outperform other algorithms on our small data sample."
   ]
  },
  {
   "cell_type": "code",
   "execution_count": 35,
   "id": "bc0f672c",
   "metadata": {
    "pycharm": {
     "name": "#%%\n"
    }
   },
   "outputs": [],
   "source": [
    "evaluations = evaluate_algorithms(config_test)\n",
    "\n",
    "assert \"SVD\" in evaluations and \"ndcg\" in evaluations[\"SVD\"] and isinstance(evaluations[\"SVD\"][\"ndcg\"], float)\n",
    "assert \"ItemKNN\" in evaluations and \"ndcg\" in evaluations[\"ItemKNN\"] and isinstance(evaluations[\"ItemKNN\"][\"ndcg\"], float)\n",
    "assert \"TopPop\" in evaluations and \"ndcg\" in evaluations[\"TopPop\"] and isinstance(evaluations[\"TopPop\"][\"ndcg\"], float)"
   ]
  },
  {
   "cell_type": "code",
   "execution_count": 36,
   "id": "215bfaee",
   "metadata": {
    "pycharm": {
     "name": "#%%\n"
    }
   },
   "outputs": [
    {
     "name": "stdout",
     "output_type": "stream",
     "text": [
      "SVD ndcg: 0.14300409512681314\n",
      "ItemKNN ndcg: 0.20568927986328173\n",
      "TopPop ndcg: 0.09429753895348715\n"
     ]
    }
   ],
   "source": [
    "for recommender in evaluations.keys():\n",
    "    print(f\"{recommender} ndcg: {evaluations[recommender]['ndcg']}\")"
   ]
  },
  {
   "cell_type": "markdown",
   "id": "6191839c",
   "metadata": {},
   "source": [
    "## Questions and Potential Future Work\n",
    "* How would you try improve performance of all three algorithms?\n",
    "* What other metrics would you consider to compare these recommender systems?"
   ]
  },
  {
   "cell_type": "code",
   "execution_count": null,
   "id": "0f4ad182",
   "metadata": {},
   "outputs": [],
   "source": [
    "# The end."
   ]
  }
 ],
 "metadata": {
  "kernelspec": {
   "display_name": "Python 3 (ipykernel)",
   "language": "python",
   "name": "python3"
  },
  "language_info": {
   "codemirror_mode": {
    "name": "ipython",
    "version": 3
   },
   "file_extension": ".py",
   "mimetype": "text/x-python",
   "name": "python",
   "nbconvert_exporter": "python",
   "pygments_lexer": "ipython3",
   "version": "3.10.9"
  }
 },
 "nbformat": 4,
 "nbformat_minor": 5
}
